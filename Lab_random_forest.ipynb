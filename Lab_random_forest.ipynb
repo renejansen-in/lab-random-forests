{
 "cells": [
  {
   "cell_type": "markdown",
   "id": "187e88c5",
   "metadata": {},
   "source": [
    "# Lab | Random Forest\n",
    "\n",
    "<br>\n",
    "\n",
    "<details><summary>▶ Instructions:</summary>\n",
    "<p>\n",
    "\n",
    "* Apply the Random Forests algorithm but this time only by upscaling the data.\n",
    "* Discuss the output and its impact in the bussiness scenario. Is the cost of a false positive equals to the cost of the false negative? How would you change your algorithm or data in order to maximize the return of the bussiness?\n",
    "\n",
    "</p>\n",
    "</details>"
   ]
  },
  {
   "cell_type": "code",
   "execution_count": 1,
   "id": "6b147f51",
   "metadata": {},
   "outputs": [
    {
     "data": {
      "text/html": [
       "<div>\n",
       "<style scoped>\n",
       "    .dataframe tbody tr th:only-of-type {\n",
       "        vertical-align: middle;\n",
       "    }\n",
       "\n",
       "    .dataframe tbody tr th {\n",
       "        vertical-align: top;\n",
       "    }\n",
       "\n",
       "    .dataframe thead th {\n",
       "        text-align: right;\n",
       "    }\n",
       "</style>\n",
       "<table border=\"1\" class=\"dataframe\">\n",
       "  <thead>\n",
       "    <tr style=\"text-align: right;\">\n",
       "      <th></th>\n",
       "      <th>TARGET_B</th>\n",
       "      <th>TARGET_D</th>\n",
       "    </tr>\n",
       "  </thead>\n",
       "  <tbody>\n",
       "    <tr>\n",
       "      <th>0</th>\n",
       "      <td>0</td>\n",
       "      <td>0.0</td>\n",
       "    </tr>\n",
       "  </tbody>\n",
       "</table>\n",
       "</div>"
      ],
      "text/plain": [
       "   TARGET_B  TARGET_D\n",
       "0         0       0.0"
      ]
     },
     "execution_count": 1,
     "metadata": {},
     "output_type": "execute_result"
    }
   ],
   "source": [
    "import pandas as pd\n",
    "import numpy as np\n",
    "from sklearn.model_selection import train_test_split\n",
    "from sklearn.preprocessing import OneHotEncoder\n",
    "import warnings\n",
    "warnings.filterwarnings('ignore')\n",
    "categorical = pd.read_csv(\"files_for_lab/categorical.csv\")\n",
    "numerical = pd.read_csv('files_for_lab/numerical.csv')\n",
    "target = pd.read_csv('files_for_lab/target.csv')\n",
    "target.head(1)   # b=boolean/response previous mailing and d=dollar/amount_donated as response"
   ]
  },
  {
   "cell_type": "code",
   "execution_count": 2,
   "id": "c4370914",
   "metadata": {},
   "outputs": [
    {
     "name": "stdout",
     "output_type": "stream",
     "text": [
      "cat: (95412, 22)\n",
      "num: (95412, 315)\n",
      "target_B:\n",
      "0    90569\n",
      "1     4843\n",
      "Name: TARGET_B, dtype: int64\n"
     ]
    }
   ],
   "source": [
    "print('cat:', categorical.shape)\n",
    "print('num:', numerical.shape)\n",
    "print('target_B:\\n' + str(target['TARGET_B'].value_counts()))"
   ]
  },
  {
   "cell_type": "code",
   "execution_count": 3,
   "id": "445360d9",
   "metadata": {},
   "outputs": [],
   "source": [
    "target_b = target['TARGET_B']   # seperate target datasets, possibly needed like that in labs\n",
    "target_d = target['TARGET_D']\n",
    "data = pd.concat([categorical, numerical, target_d, target_b], axis=1) "
   ]
  },
  {
   "cell_type": "code",
   "execution_count": 4,
   "id": "4dc657a0",
   "metadata": {},
   "outputs": [
    {
     "data": {
      "text/html": [
       "<div>\n",
       "<style scoped>\n",
       "    .dataframe tbody tr th:only-of-type {\n",
       "        vertical-align: middle;\n",
       "    }\n",
       "\n",
       "    .dataframe tbody tr th {\n",
       "        vertical-align: top;\n",
       "    }\n",
       "\n",
       "    .dataframe thead th {\n",
       "        text-align: right;\n",
       "    }\n",
       "</style>\n",
       "<table border=\"1\" class=\"dataframe\">\n",
       "  <thead>\n",
       "    <tr style=\"text-align: right;\">\n",
       "      <th></th>\n",
       "      <th>STATE</th>\n",
       "      <th>CLUSTER</th>\n",
       "      <th>HOMEOWNR</th>\n",
       "      <th>GENDER</th>\n",
       "      <th>DATASRCE</th>\n",
       "      <th>RFA_2R</th>\n",
       "      <th>RFA_2A</th>\n",
       "      <th>GEOCODE2</th>\n",
       "      <th>DOMAIN_A</th>\n",
       "      <th>DOMAIN_B</th>\n",
       "      <th>...</th>\n",
       "      <th>MAXRAMNT</th>\n",
       "      <th>LASTGIFT</th>\n",
       "      <th>TIMELAG</th>\n",
       "      <th>AVGGIFT</th>\n",
       "      <th>CONTROLN</th>\n",
       "      <th>HPHONE_D</th>\n",
       "      <th>RFA_2F</th>\n",
       "      <th>CLUSTER2</th>\n",
       "      <th>TARGET_D</th>\n",
       "      <th>TARGET_B</th>\n",
       "    </tr>\n",
       "  </thead>\n",
       "  <tbody>\n",
       "  </tbody>\n",
       "</table>\n",
       "<p>0 rows × 339 columns</p>\n",
       "</div>"
      ],
      "text/plain": [
       "Empty DataFrame\n",
       "Columns: [STATE, CLUSTER, HOMEOWNR, GENDER, DATASRCE, RFA_2R, RFA_2A, GEOCODE2, DOMAIN_A, DOMAIN_B, ODATEW_YR, ODATEW_MM, DOB_YR, DOB_MM, MINRDATE_YR, MINRDATE_MM, MAXRDATE_YR, MAXRDATE_MM, LASTDATE_YR, LASTDATE_MM, FIRSTDATE_YR, FIRSTDATE_MM, TCODE, AGE, INCOME, WEALTH1, HIT, MALEMILI, MALEVET, VIETVETS, WWIIVETS, LOCALGOV, STATEGOV, FEDGOV, WEALTH2, POP901, POP902, POP903, POP90C1, POP90C2, POP90C3, POP90C4, POP90C5, ETH1, ETH2, ETH3, ETH4, ETH5, ETH6, ETH7, ETH8, ETH9, ETH10, ETH11, ETH12, ETH13, ETH14, ETH15, ETH16, AGE901, AGE902, AGE903, AGE904, AGE905, AGE906, AGE907, CHIL1, CHIL2, CHIL3, AGEC1, AGEC2, AGEC3, AGEC4, AGEC5, AGEC6, AGEC7, CHILC1, CHILC2, CHILC3, CHILC4, CHILC5, HHAGE1, HHAGE2, HHAGE3, HHN1, HHN2, HHN3, HHN4, HHN5, HHN6, MARR1, MARR2, MARR3, MARR4, HHP1, HHP2, DW1, DW2, DW3, DW4, ...]\n",
       "Index: []\n",
       "\n",
       "[0 rows x 339 columns]"
      ]
     },
     "execution_count": 4,
     "metadata": {},
     "output_type": "execute_result"
    }
   ],
   "source": [
    "nans = pd.DataFrame(data.isna().sum()*100/len(data), columns=['percentage'])\n",
    "nans.sort_values('percentage', ascending = False).head()\n",
    "data[data.isna().any(axis=1)]   # no NaN's at all"
   ]
  },
  {
   "cell_type": "code",
   "execution_count": 5,
   "id": "2c155d8a",
   "metadata": {},
   "outputs": [
    {
     "name": "stdout",
     "output_type": "stream",
     "text": [
      "(90569, 339)\n",
      "(90569, 339)\n"
     ]
    }
   ],
   "source": [
    "# 0    90569\n",
    "# 1     4843\n",
    "# upsampling from 4843 --> 90569\n",
    "from sklearn.utils import resample\n",
    "\n",
    "category_0 = data[data['TARGET_B'] == 0]\n",
    "category_1 = data[data['TARGET_B'] == 1]\n",
    "\n",
    "category_1_oversampled = resample(category_1, replace=True, n_samples = len(category_0))\n",
    "\n",
    "print(category_0.shape)\n",
    "print(category_1_oversampled.shape)"
   ]
  },
  {
   "cell_type": "code",
   "execution_count": 6,
   "id": "33b38b77",
   "metadata": {},
   "outputs": [
    {
     "data": {
      "text/plain": [
       "(181138, 339)"
      ]
     },
     "execution_count": 6,
     "metadata": {},
     "output_type": "execute_result"
    }
   ],
   "source": [
    "# re-joining\n",
    "data_upsampled = pd.concat([category_0, category_1_oversampled], axis=0).reset_index(drop=True)\n",
    "data_upsampled.shape"
   ]
  },
  {
   "cell_type": "code",
   "execution_count": 7,
   "id": "f611b7eb",
   "metadata": {},
   "outputs": [],
   "source": [
    "# X/y split and OneHotEncoding\n",
    "y = data_upsampled['TARGET_B']\n",
    "X = data_upsampled.drop(['TARGET_B'], axis = 1)\n",
    "\n",
    "X_num = X.select_dtypes(np.number)\n",
    "X_cat = X.select_dtypes(np.object)\n",
    "\n",
    "encoder = OneHotEncoder(drop='first').fit(X_cat)\n",
    "encoded_categorical = encoder.transform(X_cat).toarray()\n",
    "encoded_categorical = pd.DataFrame(encoded_categorical)\n",
    "X = pd.concat([X_num, encoded_categorical], axis = 1)\n",
    "\n",
    "X_train, X_test, y_train, y_test = train_test_split(X, y, test_size=0.2, random_state=12)"
   ]
  },
  {
   "cell_type": "code",
   "execution_count": 8,
   "id": "62c1303c",
   "metadata": {},
   "outputs": [],
   "source": [
    "X_train = pd.DataFrame(X_train)\n",
    "X_test = pd.DataFrame(X_test)\n",
    "\n",
    "y_train_regression = X_train['TARGET_D']\n",
    "y_test_regression = X_test['TARGET_D']\n",
    "\n",
    "# Now we can remove the column target d from the set of features\n",
    "X_train = X_train.drop(['TARGET_D'], axis = 1)\n",
    "X_test = X_test.drop(['TARGET_D'], axis = 1)"
   ]
  },
  {
   "cell_type": "code",
   "execution_count": 9,
   "id": "5c60140f",
   "metadata": {},
   "outputs": [
    {
     "name": "stdout",
     "output_type": "stream",
     "text": [
      "0.6168242357325237\n",
      "0.6146902947996025\n"
     ]
    }
   ],
   "source": [
    "from sklearn.ensemble import RandomForestClassifier\n",
    "clf = RandomForestClassifier(max_depth=5,\n",
    "                             min_samples_split=20,\n",
    "                             min_samples_leaf =20)\n",
    "clf.fit(X_train, y_train)\n",
    "print(clf.score(X_train, y_train))\n",
    "print(clf.score(X_test, y_test))"
   ]
  },
  {
   "cell_type": "code",
   "execution_count": 10,
   "id": "a9a58333",
   "metadata": {},
   "outputs": [
    {
     "name": "stdout",
     "output_type": "stream",
     "text": [
      "0.6126561313918983\n"
     ]
    }
   ],
   "source": [
    "# For cross validation\n",
    "from sklearn.model_selection import cross_val_score\n",
    "clf = RandomForestClassifier(max_depth=5,\n",
    "                             min_samples_split=20,\n",
    "                             min_samples_leaf =20)\n",
    "cross_val_scores = cross_val_score(clf, X_train, y_train, cv=10)\n",
    "print(np.mean(cross_val_scores))"
   ]
  },
  {
   "cell_type": "code",
   "execution_count": 12,
   "id": "15f52856",
   "metadata": {},
   "outputs": [
    {
     "data": {
      "text/plain": [
       "array([0.61741771, 0.61037886, 0.61120696, 0.61707267, 0.60775654,\n",
       "       0.61562349, 0.61224208, 0.60761852, 0.61679663, 0.61044786])"
      ]
     },
     "execution_count": 12,
     "metadata": {},
     "output_type": "execute_result"
    }
   ],
   "source": [
    "cross_val_scores"
   ]
  },
  {
   "cell_type": "code",
   "execution_count": 13,
   "id": "f11dde08",
   "metadata": {},
   "outputs": [],
   "source": [
    "# Is the cost of a false positive equal to the cost of the false negative? \n",
    "# A false positive means sending a mailpack to someone that it not likely to donate.  \n",
    "# Marketing costs and costs for sending will be unnecessarily high.\n",
    "# A false negative is about a potential donor who is not included in the campaign and \n",
    "# will probably not spontaneously come up with a donation. Losing a prospect is never\n",
    "# good which means losing a donation"
   ]
  },
  {
   "cell_type": "code",
   "execution_count": null,
   "id": "456cf54b",
   "metadata": {},
   "outputs": [],
   "source": [
    "# How would you change your algorithm or data in order to maximize the return of the business?\n",
    "# I wouldn't know by now. Up- versus downsampling didn't change much in the last lab\n",
    "# Let's see if this insight will be created in next lab"
   ]
  }
 ],
 "metadata": {
  "kernelspec": {
   "display_name": "Python 3",
   "language": "python",
   "name": "python3"
  },
  "language_info": {
   "codemirror_mode": {
    "name": "ipython",
    "version": 3
   },
   "file_extension": ".py",
   "mimetype": "text/x-python",
   "name": "python",
   "nbconvert_exporter": "python",
   "pygments_lexer": "ipython3",
   "version": "3.8.8"
  }
 },
 "nbformat": 4,
 "nbformat_minor": 5
}
